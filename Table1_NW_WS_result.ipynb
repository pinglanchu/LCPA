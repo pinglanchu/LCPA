{
 "cells": [
  {
   "cell_type": "code",
   "execution_count": 1,
   "metadata": {},
   "outputs": [],
   "source": [
    "import numpy as np\n",
    "import matplotlib.pyplot as plt"
   ]
  },
  {
   "cell_type": "code",
   "execution_count": 2,
   "metadata": {},
   "outputs": [
    {
     "data": {
      "image/png": "[encoded data removed]",
      "text/plain": [
       "<Figure size 432x288 with 1 Axes>"
      ]
     },
     "metadata": {
      "needs_background": "light"
     },
     "output_type": "display_data"
    },
    {
     "data": {
      "image/png": "[encoded data removed]",
      "text/plain": [
       "<Figure size 432x288 with 1 Axes>"
      ]
     },
     "metadata": {
      "needs_background": "light"
     },
     "output_type": "display_data"
    }
   ],
   "source": [
    "# ws网络\n",
    "p = np.linspace(0.1, 0.9, 9)\n",
    "delta_se =  [1.45954406,1.40405284,1.36390354,1.3370599,1.32133152,1.31275222, \n",
    "             1.30876944,1.30648638,1.3058338 ]\n",
    "delta_sesc = [0.41368849, 0.2637132, 0.16219528, 0.10917795, 0.05726326, 0.01679599, \n",
    "              0.00509157, 0.00653291, 0.00580304]\n",
    "\n",
    "plt.plot(p, delta_se, marker='*', label=r'$\\delta_{se}$')\n",
    "plt.plot(p, delta_sesc, marker='v', label=r'$\\delta_{sesc}$')\n",
    "plt.legend()\n",
    "plt.show()\n",
    "\n",
    "# nw网络\n",
    "delta_se = [1.50602262, 1.4713206,  1.44642876, 1.42641352, 1.40889305, 1.39549043, \n",
    "            1.3827162,  1.37409661, 1.36708911]\n",
    "delta_sesc = [0.66376858, 0.62647926, 0.59908696, 0.52698881, 0.53893197, 0.48757712, \n",
    "              0.44558879, 0.43162205, 0.41346978]\n",
    "plt.plot(p, delta_se, marker='*', label=r'$\\delta_{se}$')\n",
    "plt.plot(p, delta_sesc, marker='v', label=r'$\\delta_{sesc}$')\n",
    "plt.legend()\n",
    "plt.show()"
   ]
  },
  {
   "cell_type": "code",
   "execution_count": 3,
   "metadata": {},
   "outputs": [
    {
     "name": "stdout",
     "output_type": "stream",
     "text": [
      "0 Bio-CE-GT.mat\n",
      "1 Celegans.mat\n",
      "5 Facebook.mat\n",
      "7 PB.mat\n",
      "10 Tech-routers.mat\n",
      "11 USAir.mat\n",
      "                      0.1      0.3      0.5      0.8\n",
      "Bio-CE-GT.mat     1.73449  1.72746  1.72014  1.73452\n",
      "Celegans.mat      1.41595  1.39948   1.3909  1.37453\n",
      "Facebook.mat      1.58394  1.53114  1.48624  1.41834\n",
      "PB.mat            1.79606   1.7727  1.75564  1.72393\n",
      "Tech-routers.mat  1.69438  1.68505  1.69099  1.70002\n",
      "USAir.mat         1.89611  1.85074  1.82985   1.7842\n",
      "                       0.1       0.3       0.5        0.8\n",
      "Bio-CE-GT.mat      0.14859  0.132543   0.10335  0.0545692\n",
      "Celegans.mat        0.1527  0.126107  0.069113  0.0512536\n",
      "Facebook.mat      0.429161  0.306485  0.220745   0.110377\n",
      "PB.mat            0.323584  0.248927  0.211153   0.119118\n",
      "Tech-routers.mat  0.306872  0.194245  0.123847  0.0144782\n",
      "USAir.mat         0.455255  0.316683  0.262393   0.109797\n"
     ]
    }
   ],
   "source": [
    "import os\n",
    "import scipy.io\n",
    "from SPM import SPM\n",
    "from train_test_split import DivideNet\n",
    "import pandas as pd\n",
    "import random\n",
    "\n",
    "def getMaxEG(n, m):\n",
    "    if 2 * m >= n:\n",
    "        max_EG = 2*m / n + np.sqrt((n-1)*(2*m-(2*m/n)**2))\n",
    "    else:\n",
    "        max_EG = np.sqrt(2*m*n)\n",
    "    return max_EG\n",
    "\n",
    "files = os.listdir('Code and Data for NC paper/Data')\n",
    "row_name = [file[:-4] for file in files]\n",
    "df_se = pd.DataFrame(columns=('0.1', '0.3', '0.5', '0.8'))\n",
    "df_sesc = pd.DataFrame(columns=('0.1', '0.3', '0.5', '0.8'))\n",
    "\n",
    "for id in [0, 1, 5, 7, 10, 11]:\n",
    "    print(id, files[id])\n",
    "    data = scipy.io.loadmat('Code and Data for NC paper/Data/' + files[id])\n",
    "    delta_se_lst = []\n",
    "    delta_sesc_lst = []\n",
    "    for p in [0.05, 0.15, 0.25, 0.45]:\n",
    "        delta_se = 0\n",
    "        sigma_c = 0\n",
    "        for k in range(10):\n",
    "            A = data['A'].todense()\n",
    "            one_index = np.argwhere(np.triu(A) == 1).tolist()\n",
    "            sampled = random.sample(one_index, int(p*len(one_index)))\n",
    "            for s in sampled:\n",
    "                A[s[0], s[1]] = 0\n",
    "                A[s[1], s[0]] = 0\n",
    "            n = A.shape[0]\n",
    "            m = np.sum(np.triu(A))\n",
    "            eigvals = np.linalg.eigvals(A)\n",
    "            E = np.sum(abs(eigvals))\n",
    "            delta_se += getMaxEG(n, m) / E\n",
    "            \n",
    "            train, test = DivideNet(A, 0.1)\n",
    "            A_R, A_T = DivideNet(train, 0.1)\n",
    "            sigma_c += SPM(train, test, A_R, A_T)\n",
    "        delta_se_lst.append(delta_se / 10)\n",
    "        delta_sesc_lst.append((delta_se / 10) * (sigma_c / 10))\n",
    "    df_se.loc[files[id], :] = delta_se_lst\n",
    "    df_sesc.loc[files[id], :] = delta_sesc_lst\n",
    "    \n",
    "print(df_se)\n",
    "print(df_sesc)"
   ]
  },
  {
   "cell_type": "code",
   "execution_count": null,
   "metadata": {},
   "outputs": [],
   "source": []
  }
 ],
 "metadata": {
  "kernelspec": {
   "display_name": "Python 3",
   "language": "python",
   "name": "python3"
  },
  "language_info": {
   "codemirror_mode": {
    "name": "ipython",
    "version": 3
   },
   "file_extension": ".py",
   "mimetype": "text/x-python",
   "name": "python",
   "nbconvert_exporter": "python",
   "pygments_lexer": "ipython3",
   "version": "3.7.4"
  }
 },
 "nbformat": 4,
 "nbformat_minor": 2
}
